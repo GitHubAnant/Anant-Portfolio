{
  "nbformat": 4,
  "nbformat_minor": 0,
  "metadata": {
    "colab": {
      "name": "Module2 : Image scraping.ipynb",
      "provenance": [],
      "collapsed_sections": []
    },
    "kernelspec": {
      "name": "python3",
      "display_name": "Python 3"
    }
  },
  "cells": [
    {
      "cell_type": "code",
      "metadata": {
        "id": "ctfIyQL5ZXlr",
        "colab_type": "code",
        "colab": {}
      },
      "source": [
        "import re\n",
        "import requests\n",
        "from bs4 import BeautifulSoup\n",
        "import pandas as pd\n",
        "#df = pd.read_excel('https://drive.google.com/uc?export=download&id=1TpjmvKkZQsZzB0EpBpk-TwNVYdxxkO82',header = 0)\n",
        "df = pd.read_excel('https://drive.google.com/uc?export=download&id=1_JY5BIm_Yy6YMt2Rp0KOTVqFraMNofxm',header = 0)\n",
        "#df = df[:]\n",
        "def Image_download(site):\n",
        " try:\n",
        "  response = requests.get(site)\n",
        "  soup = BeautifulSoup(response.text, 'html.parser')\n",
        "  img_tags = soup.find_all('img')  \n",
        "  try:\n",
        "   urls = [img['src'] for img in img_tags]\n",
        "   count = 0\n",
        "   for url in urls:\n",
        "    filename = re.search(r'/([\\w_-]+[.](jpg|gif|png))$', url)\n",
        "    if filename is not None:\n",
        "     count = count + 1\n",
        "     with open(filename.group(1), 'wb') as f:\n",
        "        if 'http' not in url:\n",
        "            # sometimes an image source can be relative \n",
        "            # if it is provide the base url which also happens \n",
        "            # to be the site variable atm. \n",
        "            url = '{}{}'.format(site, url)\n",
        "        response = requests.get(url)\n",
        "        f.write(response.content)\n",
        "        \n",
        "    else:  \n",
        "        continue \n",
        "   print(\"No of Images :\",count)\n",
        "\n",
        "  except:\n",
        "     print(\"No Image\")\n",
        " except:\n",
        "   print(\"No Image\")\n",
        "     \n",
        "for url in df['url']:\n",
        "    print (url)\n",
        "    Image_download(url)"
      ],
      "execution_count": 0,
      "outputs": []
    }
  ]
}